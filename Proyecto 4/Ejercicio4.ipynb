{
 "cells": [
  {
   "cell_type": "markdown",
   "metadata": {},
   "source": [
    "Integrantes\n",
    "Arturo Najera Santos\n",
    "Daniel Eduardo Raya Maldonado"
   ]
  },
  {
   "cell_type": "markdown",
   "metadata": {},
   "source": [
    "Ejercicio 4:Uso del algoritmo de Biseccion"
   ]
  },
  {
   "cell_type": "code",
   "execution_count": 1,
   "metadata": {},
   "outputs": [
    {
     "name": "stdout",
     "output_type": "stream",
     "text": [
      "La raíz con el método de la bisección es: 1.732050895690918\n"
     ]
    }
   ],
   "source": [
    "'''Esta funcion implementa el metodo de la biseccion\n",
    "para encontrar la raiz de una funcion.\n",
    "f:   funcion de la cual se busca la raiz\n",
    "Tol: tolerancia del error numerico\n",
    "N:   numero maximo de iteraciones\n",
    "a:   limite inferior del rango inicial\n",
    "b:   limite superior del rango inicial\n",
    "'''\n",
    "def biseccion(f,Tol,N,a,b):\n",
    "    sucesion=[]\n",
    "    fa, fb = f(a), f(b)\n",
    "    #no hay un cambio de signo (teorema del valor medio)\n",
    "    #no existe raiz en el intervalo [a,b]\n",
    "    if fa*fb>0:\n",
    "        print (\"no hay raiz en [a,b]\")\n",
    "        return\n",
    "    #contador de iteraciones\n",
    "    n=1\n",
    "    x0=0.0\n",
    "    #mientras no se exceda el numero de iteraciones\n",
    "    while n<=N:\n",
    "        #se busca la raiz en el punto medio\n",
    "        x1=(a+b)/2.0\n",
    "        fx=f(x1)\n",
    "        sucesion.append(x1)\n",
    "        #en caso de que la iteracion siguiente y la diferencia\n",
    "        #entre la iteracion anterior no excedan Tol, entonces\n",
    "        #la iteracion actual se aproxima a la solucion buscada\n",
    "        if abs(f(x1)) <= Tol and abs(x1-x0) <= Tol:\n",
    "            return x1, sucesion\n",
    "        #en caso de no cumplir el criterio de tolerancia\n",
    "        #se actualiza el rango de busqueda\n",
    "        if (fa*fx <0.0):\n",
    "            b=x1\n",
    "        if (fx*fa >0.0):\n",
    "            a=x1\n",
    "        x0=x1\n",
    "        #se incrementa el contador de iteraciones\n",
    "        n=n+1\n",
    "\n",
    "def f(x):\n",
    "  return (x**2)-3\n",
    "\n",
    "raiz, sus = biseccion(f,0.00001,1000,-0.5,2)\n",
    "print(\"La raíz con el método de la bisección es:\", raiz)"
   ]
  }
 ],
 "metadata": {
  "kernelspec": {
   "display_name": "Python 3",
   "language": "python",
   "name": "python3"
  },
  "language_info": {
   "codemirror_mode": {
    "name": "ipython",
    "version": 3
   },
   "file_extension": ".py",
   "mimetype": "text/x-python",
   "name": "python",
   "nbconvert_exporter": "python",
   "pygments_lexer": "ipython3",
   "version": "3.12.1"
  }
 },
 "nbformat": 4,
 "nbformat_minor": 2
}
