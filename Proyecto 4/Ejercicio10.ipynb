{
 "cells": [
  {
   "cell_type": "markdown",
   "metadata": {},
   "source": [
    "Integrantes\n",
    "Arturo Najera Santos\n",
    "Daniel Eduardo Raya Maldonado"
   ]
  },
  {
   "cell_type": "markdown",
   "metadata": {},
   "source": [
    "Ejercicio 10: Raices del ejercicio 9 con el metodo secante"
   ]
  },
  {
   "cell_type": "code",
   "execution_count": 2,
   "metadata": {},
   "outputs": [
    {
     "ename": "Exception",
     "evalue": "Se alcanzo el maximo numero de iteraciones y no se encontro raiz",
     "output_type": "error",
     "traceback": [
      "\u001b[0;31m---------------------------------------------------------------------------\u001b[0m",
      "\u001b[0;31mException\u001b[0m                                 Traceback (most recent call last)",
      "Cell \u001b[0;32mIn[2], line 32\u001b[0m\n\u001b[1;32m     29\u001b[0m \u001b[38;5;28;01mdef\u001b[39;00m \u001b[38;5;21mf\u001b[39m(x): \n\u001b[1;32m     30\u001b[0m     \u001b[38;5;28;01mreturn\u001b[39;00m x\u001b[38;5;241m*\u001b[39m\u001b[38;5;241m*\u001b[39m\u001b[38;5;241m3\u001b[39m\n\u001b[0;32m---> 32\u001b[0m raiz \u001b[38;5;241m=\u001b[39m \u001b[43msecante\u001b[49m\u001b[43m(\u001b[49m\u001b[43mf\u001b[49m\u001b[43m,\u001b[49m\u001b[38;5;241;43m0.0001\u001b[39;49m\u001b[43m,\u001b[49m\u001b[38;5;241;43m10\u001b[39;49m\u001b[43m,\u001b[49m\u001b[38;5;241;43m-\u001b[39;49m\u001b[38;5;241;43m0.5\u001b[39;49m\u001b[43m,\u001b[49m\u001b[38;5;241;43m2\u001b[39;49m\u001b[43m)\u001b[49m\n\u001b[1;32m     33\u001b[0m \u001b[38;5;28mprint\u001b[39m(\u001b[38;5;124m\"\u001b[39m\u001b[38;5;124mLa raíz con el método de la secante es:\u001b[39m\u001b[38;5;124m\"\u001b[39m, raiz)\n",
      "Cell \u001b[0;32mIn[2], line 27\u001b[0m, in \u001b[0;36msecante\u001b[0;34m(f, Tol, N, x0, x1)\u001b[0m\n\u001b[1;32m     25\u001b[0m     \u001b[38;5;66;03m#incremento en las iteraciones\u001b[39;00m\n\u001b[1;32m     26\u001b[0m     n\u001b[38;5;241m+\u001b[39m\u001b[38;5;241m=\u001b[39m\u001b[38;5;241m1\u001b[39m\n\u001b[0;32m---> 27\u001b[0m \u001b[38;5;28;01mraise\u001b[39;00m \u001b[38;5;167;01mException\u001b[39;00m(\u001b[38;5;124m\"\u001b[39m\u001b[38;5;124mSe alcanzo el maximo numero de iteraciones y no se encontro raiz\u001b[39m\u001b[38;5;124m\"\u001b[39m)\n",
      "\u001b[0;31mException\u001b[0m: Se alcanzo el maximo numero de iteraciones y no se encontro raiz"
     ]
    }
   ],
   "source": [
    "'''\n",
    "f:   funcion de la cual se busca la raiz\n",
    "Tol: tolerancia del error numerico\n",
    "N:   numero maximo de iteraciones\n",
    "x0:  aproximacion inicial\n",
    "x1: aproximacion siguiente\n",
    "'''\n",
    "import math\n",
    "def secante(f, Tol, N, x0, x1):\n",
    "    #contador de iteraciones\n",
    "    n = 1\n",
    "    #mientras no se haya superado el limite de iteraciones\n",
    "    while( N >= n ):\n",
    "        #calculo de los valores de fx\n",
    "        fx0,fx1=f(x0),f(x1)\n",
    "        #se calcula la siguiente aproximacion\n",
    "        xn = x1-fx1*((x1-x0)/float(fx1-fx0))\n",
    "        #en caso de que se cumplan los criteros de paro\n",
    "        #se devuelve la raiz\n",
    "        if (abs(f(xn)) <= Tol and abs(x0-x1) <= Tol):\n",
    "            return xn\n",
    "        #se actualizan los valores\n",
    "        x0 = x1\n",
    "        x1 = xn\n",
    "        #incremento en las iteraciones\n",
    "        n+=1\n",
    "    raise Exception(\"Se alcanzo el maximo numero de iteraciones y no se encontro raiz\")\n",
    "\n",
    "def f(x): \n",
    "    return x**3\n",
    "\n",
    "raiz = secante(f,0.0001,10,-0.5,2)\n",
    "print(\"La raíz con el método de la secante es:\", raiz)"
   ]
  },
  {
   "cell_type": "markdown",
   "metadata": {},
   "source": [
    "$f(x) = e^x+2^{-x}+2cos(x)-6 = 0$ para $1 \\leq x \\leq 2$"
   ]
  },
  {
   "cell_type": "code",
   "execution_count": 1,
   "metadata": {},
   "outputs": [
    {
     "ename": "NameError",
     "evalue": "name 'secante' is not defined",
     "output_type": "error",
     "traceback": [
      "\u001b[0;31m---------------------------------------------------------------------------\u001b[0m",
      "\u001b[0;31mNameError\u001b[0m                                 Traceback (most recent call last)",
      "Cell \u001b[0;32mIn[1], line 3\u001b[0m\n\u001b[1;32m      1\u001b[0m \u001b[38;5;28;01mdef\u001b[39;00m \u001b[38;5;21mf\u001b[39m(x): \n\u001b[1;32m      2\u001b[0m     \u001b[38;5;28;01mreturn\u001b[39;00m (math\u001b[38;5;241m.\u001b[39me\u001b[38;5;241m*\u001b[39m\u001b[38;5;241m*\u001b[39mx)\u001b[38;5;241m+\u001b[39m(\u001b[38;5;241m2\u001b[39m\u001b[38;5;241m*\u001b[39m\u001b[38;5;241m*\u001b[39m\u001b[38;5;241m-\u001b[39mx)\u001b[38;5;241m+\u001b[39m(\u001b[38;5;241m2\u001b[39m\u001b[38;5;241m*\u001b[39mmath\u001b[38;5;241m.\u001b[39mcos(x))\u001b[38;5;241m-\u001b[39m\u001b[38;5;241m6\u001b[39m\n\u001b[0;32m----> 3\u001b[0m raiz \u001b[38;5;241m=\u001b[39m \u001b[43msecante\u001b[49m(f,\u001b[38;5;241m0.0001\u001b[39m,\u001b[38;5;241m10\u001b[39m,\u001b[38;5;241m-\u001b[39m\u001b[38;5;241m0.5\u001b[39m,\u001b[38;5;241m2\u001b[39m)\n\u001b[1;32m      4\u001b[0m \u001b[38;5;28mprint\u001b[39m(\u001b[38;5;124m\"\u001b[39m\u001b[38;5;124mLa raíz con el método de la secante es:\u001b[39m\u001b[38;5;124m\"\u001b[39m, raiz)\n",
      "\u001b[0;31mNameError\u001b[0m: name 'secante' is not defined"
     ]
    }
   ],
   "source": [
    "def f(x): \n",
    "    return (math.e**x)+(2**-x)+(2*math.cos(x))-6\n",
    "raiz = secante(f,0.0001,10,-0.5,2)\n",
    "print(\"La raíz con el método de la secante es:\", raiz)"
   ]
  }
 ],
 "metadata": {
  "kernelspec": {
   "display_name": "Python 3",
   "language": "python",
   "name": "python3"
  },
  "language_info": {
   "codemirror_mode": {
    "name": "ipython",
    "version": 3
   },
   "file_extension": ".py",
   "mimetype": "text/x-python",
   "name": "python",
   "nbconvert_exporter": "python",
   "pygments_lexer": "ipython3",
   "version": "3.12.1"
  }
 },
 "nbformat": 4,
 "nbformat_minor": 2
}
