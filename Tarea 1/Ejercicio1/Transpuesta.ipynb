{
 "cells": [
  {
   "cell_type": "code",
   "execution_count": 28,
   "metadata": {},
   "outputs": [
    {
     "name": "stdout",
     "output_type": "stream",
     "text": [
      "[[1. 4. 7.]\n",
      " [2. 5. 8.]\n",
      " [3. 6. 9.]]\n"
     ]
    }
   ],
   "source": [
    "import numpy as np  \n",
    "\n",
    "A = np.array([[1,2,3],[4,5,6],[7,8,9]])\n",
    "\n",
    "#Vamos a calcular la transpuesta de la matriz que es intercambiar las filas por las columnas\n",
    "def Transpuesta(A):\n",
    "    At = np.ones((A.shape[0], A.shape[1]))\n",
    "    for fi in range(A.shape[1]):#Cambia de fila para ponerlos en la nueva columna de la nueva matriz\n",
    "        c = 0 \n",
    "        for co in range(A.shape[1]):#Pone a todos los elementos de la fila i como elementos columna de la nueva matriz\n",
    "            #print( At[co,fi])\n",
    "            #print(A.shape[1])\n",
    "            c = A[fi,co]\n",
    "            #print(c)\n",
    "            At[co,fi] = c\n",
    "            co = co + 1\n",
    "    return(At)\n",
    "\n",
    "\n",
    "print(Transpuesta(A))\n",
    "            \n"
   ]
  }
 ],
 "metadata": {
  "kernelspec": {
   "display_name": "Python 3",
   "language": "python",
   "name": "python3"
  },
  "language_info": {
   "codemirror_mode": {
    "name": "ipython",
    "version": 3
   },
   "file_extension": ".py",
   "mimetype": "text/x-python",
   "name": "python",
   "nbconvert_exporter": "python",
   "pygments_lexer": "ipython3",
   "version": "3.12.1"
  }
 },
 "nbformat": 4,
 "nbformat_minor": 2
}
