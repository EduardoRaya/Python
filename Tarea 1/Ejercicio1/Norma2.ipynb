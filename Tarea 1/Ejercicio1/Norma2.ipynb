{
 "cells": [
  {
   "cell_type": "markdown",
   "metadata": {},
   "source": [
    "Arturo Nájera Santos\n",
    "Daniel Eduardo Raya Maldonado\n",
    "Programa para obtener la norma 2 de un vector"
   ]
  },
  {
   "cell_type": "code",
   "execution_count": 9,
   "metadata": {},
   "outputs": [
    {
     "name": "stdout",
     "output_type": "stream",
     "text": [
      "1.0\n",
      "2.0\n",
      "3.0\n",
      "1.7320508075688772\n"
     ]
    }
   ],
   "source": [
    "import numpy as np\n",
    "import math\n",
    "\n",
    "A = [1,1,1]\n",
    "\n",
    "def Norm2(A):\n",
    "    y = a = c = 0\n",
    "    for i in range(len(A)):\n",
    "        x = math.pow(A[i],2)\n",
    "        a = x \n",
    "        c = a + c\n",
    "    y = math.sqrt(c)\n",
    "    return y   \n",
    "\n",
    "print(Norm2(A))\n"
   ]
  }
 ],
 "metadata": {
  "kernelspec": {
   "display_name": "Python 3",
   "language": "python",
   "name": "python3"
  },
  "language_info": {
   "codemirror_mode": {
    "name": "ipython",
    "version": 3
   },
   "file_extension": ".py",
   "mimetype": "text/x-python",
   "name": "python",
   "nbconvert_exporter": "python",
   "pygments_lexer": "ipython3",
   "version": "3.12.1"
  }
 },
 "nbformat": 4,
 "nbformat_minor": 2
}
