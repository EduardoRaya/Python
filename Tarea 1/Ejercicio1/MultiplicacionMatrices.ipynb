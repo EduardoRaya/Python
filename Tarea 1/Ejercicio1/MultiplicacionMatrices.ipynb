{
 "cells": [
  {
   "cell_type": "markdown",
   "metadata": {},
   "source": [
    "\n",
    "Arturo Nájera Santos\n",
    "Daniel Eduardo Raya Maldonado\n",
    "Programa para multiplicacion de matrices"
   ]
  },
  {
   "cell_type": "code",
   "execution_count": null,
   "metadata": {},
   "outputs": [],
   "source": [
    "import numpy as np\n",
    "#se ingresan las matrices\n",
    "A = np.array([[8,2,3],[1,4,3]])\n",
    "B = np.array([[1,1,1],[1,1,1],[1,1,1]])\n",
    "#print(A.ndim,A.shape) [filas, columnas]\n",
    "#La matriz nueva va a tener el mismo numero de columnas de B y de filas que A C=B*A\n",
    "#print(A), shape[1] DA el num de columnas y ndim,shape[0] el de filas\n",
    "#elegir filas y luego columnas de una matriz A[0:2, 1:2]\n",
    "#identificar que se puedan multiplicar comparando el numero de columnnas de A con el de filas de B\n",
    "def MultMatr(A,B):\n",
    "    C = np.ones((A.shape[0],B.shape[1]))\n",
    "    for f1 in range(A.shape[0]): #modifica las filas de C\n",
    "\n",
    "        for c1 in range(-1, A.shape[0]):#comenzamos a escribir la nueva matriz que tendra el numero de columnas que B tiene de columnas y el numero de filas que A tiene de filas\n",
    "            c = 0\n",
    "            l = 0\n",
    "            for i in range(A.shape[1]): #el resultado sera cada una de las entradas de la nueva matriz\n",
    "                A1 = A[f1,i]\n",
    "                B1 = B[i,c1]\n",
    "                c = A1*B1 + c        \n",
    "                i = 1 + i\n",
    "            C[f1,c1] = c \n",
    "            l = 1 + l  \n",
    "        f1 = f1 + 1 \n",
    "    return C    \n",
    "\n",
    "\n",
    "if A.shape[1]==B.shape[0]:\n",
    "    print('Se pueden multiplicar')\n",
    "    print(MultMatr(A,B))\n",
    "else:\n",
    "    print('No se pueden multiplicar las matrices')\n",
    "\n"
   ]
  }
 ],
 "metadata": {
  "kernelspec": {
   "display_name": "Python 3",
   "language": "python",
   "name": "python3"
  },
  "language_info": {
   "codemirror_mode": {
    "name": "ipython",
    "version": 3
   },
   "file_extension": ".py",
   "mimetype": "text/x-python",
   "name": "python",
   "nbconvert_exporter": "python",
   "pygments_lexer": "ipython3",
   "version": "3.12.1"
  }
 },
 "nbformat": 4,
 "nbformat_minor": 2
}
