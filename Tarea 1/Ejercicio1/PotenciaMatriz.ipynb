{
 "cells": [
  {
   "cell_type": "markdown",
   "metadata": {},
   "source": [
    "\n",
    "Arturo Nájera Santos\n",
    "Daniel Eduardo Raya Maldonado\n",
    "Programa para potencias de matrices"
   ]
  },
  {
   "cell_type": "code",
   "execution_count": null,
   "metadata": {},
   "outputs": [],
   "source": [
    "import numpy as np \n",
    "\n",
    "A = [\n",
    "    [1, 2, 3],\n",
    "    [4, 5, 6],\n",
    "    [7, 8, 9]\n",
    "]\n",
    "# print(B[1])\n",
    "\n",
    "if len(A)==len(B): #se prueba que la matriz sea cuadrada para poderse multiplicar\n",
    "    print('se puede obetener su potencia')\n",
    "    B = []\n",
    "    E = []\n",
    "    c = 0\n",
    "    \n",
    "    for l in range(len(A)):#Calculo columnas\n",
    "        D = [] \n",
    "        B = A[l]\n",
    "        for n in range(len(A)):# calculo i filas\n",
    "            C = []\n",
    "            for i in range(len(A)): #Obtenemos C\n",
    "                B = A[i]\n",
    "                C.append(B[n])  \n",
    "            B = A[l]\n",
    "            d = 0\n",
    "            for i in range(len(A)): #multiplicamos para obtener la primer fila\n",
    "                c = B[i]*C[i]\n",
    "                d = c + d\n",
    "                i = i + 1\n",
    "            D.append(d)\n",
    "            n = n + 1\n",
    "        E.append(D)\n",
    "        l = l + 1\n",
    "    for sublista in E:\n",
    "        print(sublista)\n",
    "\n",
    "else:\n",
    "    print('no se puede')\n"
   ]
  }
 ],
 "metadata": {
  "kernelspec": {
   "display_name": "Python 3",
   "language": "python",
   "name": "python3"
  },
  "language_info": {
   "codemirror_mode": {
    "name": "ipython",
    "version": 3
   },
   "file_extension": ".py",
   "mimetype": "text/x-python",
   "name": "python",
   "nbconvert_exporter": "python",
   "pygments_lexer": "ipython3",
   "version": "3.12.1"
  }
 },
 "nbformat": 4,
 "nbformat_minor": 2
}
