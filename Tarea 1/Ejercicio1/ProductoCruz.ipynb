{
 "cells": [
  {
   "cell_type": "markdown",
   "metadata": {},
   "source": [
    "\n",
    "Arturo Nájera Santos\n",
    "Daniel Eduardo Raya Maldonado\n",
    "Programa para el producto cruz de dos vectores en un espacio tridimensional"
   ]
  },
  {
   "cell_type": "code",
   "execution_count": 7,
   "metadata": {},
   "outputs": [
    {
     "name": "stdout",
     "output_type": "stream",
     "text": [
      "ambos vectores deben de ser tridimensionales\n"
     ]
    }
   ],
   "source": [
    "import numpy as np \n",
    "A = [-3,-2,5]\n",
    "B = [6,-10,1]\n",
    "C = []\n",
    "if len(A)==3 and len(B)==3:\n",
    "    a = A[1]*B[2]\n",
    "    b = A[2]*B[1]*(-1)\n",
    "    c = a + b \n",
    "    C.append(c)\n",
    "    a = A[0]*B[2]\n",
    "    b = A[2]*B[0]*(-1)\n",
    "    e = (a + b)*(-1)\n",
    "    C.append(e)\n",
    "    a = A[0]*B[1]\n",
    "    b = A[1]*B[0]*(-1)\n",
    "    f = a + b \n",
    "    C.append(f)\n",
    "    \n",
    "    print(C)\n",
    "else:\n",
    "    print('ambos vectores deben de ser tridimensionales')"
   ]
  }
 ],
 "metadata": {
  "kernelspec": {
   "display_name": "Python 3",
   "language": "python",
   "name": "python3"
  },
  "language_info": {
   "codemirror_mode": {
    "name": "ipython",
    "version": 3
   },
   "file_extension": ".py",
   "mimetype": "text/x-python",
   "name": "python",
   "nbconvert_exporter": "python",
   "pygments_lexer": "ipython3",
   "version": "3.12.1"
  }
 },
 "nbformat": 4,
 "nbformat_minor": 2
}
