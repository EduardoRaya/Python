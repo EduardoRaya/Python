{
 "cells": [
  {
   "cell_type": "markdown",
   "metadata": {},
   "source": [
    "Arturo Nájera Santos\n",
    "Daniel Eduardo Raya Maldonado\n",
    "Programa para resolver un sistema de dos bandas"
   ]
  },
  {
   "cell_type": "code",
   "execution_count": 1,
   "metadata": {},
   "outputs": [
    {
     "name": "stdout",
     "output_type": "stream",
     "text": [
      "[0 2 3]\n",
      "[0 1 3]\n"
     ]
    }
   ],
   "source": [
    "import numpy as np\n",
    "\n",
    "# Matriz de banda inferior\n",
    "# Ejemplo de entrada del sistema\n",
    "A = np.array([[3., 0., 0.],\n",
    "              [2., 1., 0.],\n",
    "              [0., 0., 1.]])\n",
    "B = np.array([1, 2, 3])\n",
    "\n",
    "# Digonalización de la matriz\n",
    "for i in range(B.size-1):\n",
    "    P = np.identity(B.size)\n",
    "    P[i+1][i] = - A[i+1][i]/A[i][i]\n",
    "    A = P@A\n",
    "\n",
    "# Solución del sistema diagonal\n",
    "X = B.copy()\n",
    "for i in range(B.size):\n",
    "    X[i] = B[i]/A[i][i]\n",
    "\n",
    "# Mostrar solución\n",
    "print(X)\n",
    "\n",
    "# Matriz de banda superior\n",
    "# Ejemplo de entrada del sistema\n",
    "A = np.array([[3., 5., 0.],\n",
    "              [0., 2., 2.],\n",
    "              [0., 0., 1.]])\n",
    "B = np.array([1, 2, 3])\n",
    "\n",
    "# Digonalización de la matriz\n",
    "for i in range(B.size-1, 0, -1):\n",
    "    P = np.identity(B.size)\n",
    "    P[i-1][i] = - A[i-1][i]/A[i][i]\n",
    "    A = P@A\n",
    "\n",
    "# Solución del sistema diagonal\n",
    "X = B.copy()\n",
    "for i in range(B.size):\n",
    "    X[i] = B[i]/A[i][i]\n",
    "\n",
    "# Mostrar solución\n",
    "print(X)\n"
   ]
  }
 ],
 "metadata": {
  "kernelspec": {
   "display_name": "Python 3",
   "language": "python",
   "name": "python3"
  },
  "language_info": {
   "codemirror_mode": {
    "name": "ipython",
    "version": 3
   },
   "file_extension": ".py",
   "mimetype": "text/x-python",
   "name": "python",
   "nbconvert_exporter": "python",
   "pygments_lexer": "ipython3",
   "version": "3.12.1"
  }
 },
 "nbformat": 4,
 "nbformat_minor": 2
}
