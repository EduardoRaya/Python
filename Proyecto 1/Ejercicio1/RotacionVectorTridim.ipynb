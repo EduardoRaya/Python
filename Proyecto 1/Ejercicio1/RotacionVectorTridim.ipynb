{
 "cells": [
  {
   "cell_type": "markdown",
   "metadata": {},
   "source": [
    "Arturo Nájera Santos\n",
    "Daniel Eduardo Raya Maldonado\n",
    "Programa para la rotancion de un vector tridimensional"
   ]
  },
  {
   "cell_type": "code",
   "execution_count": 9,
   "metadata": {},
   "outputs": [
    {
     "name": "stdout",
     "output_type": "stream",
     "text": [
      "x es -3.932609833982168 ,y es 2.129455304453875 ,z es 3\n"
     ]
    }
   ],
   "source": [
    "import numpy as np\n",
    "import math \n",
    "\n",
    "A = [-2,4,3] #vector que se va a rotar\n",
    "Ang = 35 #angulo de rotacion\n",
    "\n",
    "def rotacionX(A,Ang):\n",
    "    AngR = math.radians(Ang)\n",
    "    sen = math.sin(AngR)\n",
    "    cos = math.cos(AngR)\n",
    "    x = (1*A[0]) + (0*A[1]) + (0*A[2])\n",
    "    y = (0*A[0]) + (cos*A[1]) + (-sen*A[2])\n",
    "    z = (0*A[0]) + (sen*A[1]) + (cos*A[2])\n",
    "    print('x es',x,',y es',y,',z es',z)\n",
    "\n",
    "def rotacionY(A,Ang):\n",
    "    AngR = math.radians(Ang)\n",
    "    sen = math.sin(AngR)\n",
    "    cos = math.cos(AngR)\n",
    "    x = (cos*A[0]) + (0*A[1]) + (sen*A[2])\n",
    "    y = (0*A[0]) + (1*A[1]) + (0*A[2])\n",
    "    z = (-sen*A[0]) + (0*A[1]) + (cos*A[2])\n",
    "    print('x es',x,',y es',y,',z es',z)\n",
    "\n",
    "def rotacionZ(A,Ang):\n",
    "    AngR = math.radians(Ang)\n",
    "    sen = math.sin(AngR)\n",
    "    cos = math.cos(AngR)\n",
    "    x = (cos*A[0]) + (-sen*A[1]) + (0*A[2])\n",
    "    y = (sen*A[0]) + (cos*A[1]) + (0*A[2])\n",
    "    z = (0*A[0]) + (0*A[1]) + (1*A[2])\n",
    "    print('x es',x,',y es',y,',z es',z)\n",
    "\n",
    "\n",
    "rotacionZ(A,Ang)"
   ]
  }
 ],
 "metadata": {
  "kernelspec": {
   "display_name": "Python 3",
   "language": "python",
   "name": "python3"
  },
  "language_info": {
   "codemirror_mode": {
    "name": "ipython",
    "version": 3
   },
   "file_extension": ".py",
   "mimetype": "text/x-python",
   "name": "python",
   "nbconvert_exporter": "python",
   "pygments_lexer": "ipython3",
   "version": "3.12.1"
  }
 },
 "nbformat": 4,
 "nbformat_minor": 2
}
