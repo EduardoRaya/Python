{
 "cells": [
  {
   "cell_type": "markdown",
   "metadata": {},
   "source": [
    "Arturo Nájera Santos\n",
    "Daniel Eduardo Raya Maldonado\n",
    "Programa para obtener la norma 2 de un vector"
   ]
  },
  {
   "cell_type": "code",
   "execution_count": 12,
   "metadata": {},
   "outputs": [
    {
     "data": {
      "text/plain": [
       "20"
      ]
     },
     "execution_count": 12,
     "metadata": {},
     "output_type": "execute_result"
    }
   ],
   "source": [
    "import numpy as np\n",
    "import math\n",
    "\n",
    "# La norma de infinito no es mas que el numero max del vector\n",
    "A = [3,20,1]\n",
    "def Norminf(A): #La funcion compara todos los numeros del vector y devuelve el mas grande \n",
    "    a = A[0]  #tomamos el primer elemento del vector para compararlo despues con todos los numero y lo vamos guardando en la misma variable\n",
    "    for i in range(1, len(A)):#usamos un for tomando como rango el 1 y hasta la cantidad de entradas que tiene el vector asi no importara cuantos numero tenga\n",
    "        b = A[i]\n",
    "        if a>=b:\n",
    "            a = a\n",
    "        else:\n",
    "            a = b\n",
    "        \n",
    "    return a\n",
    "      \n",
    "Norminf(A)"
   ]
  }
 ],
 "metadata": {
  "kernelspec": {
   "display_name": "Python 3",
   "language": "python",
   "name": "python3"
  },
  "language_info": {
   "codemirror_mode": {
    "name": "ipython",
    "version": 3
   },
   "file_extension": ".py",
   "mimetype": "text/x-python",
   "name": "python",
   "nbconvert_exporter": "python",
   "pygments_lexer": "ipython3",
   "version": "3.12.1"
  }
 },
 "nbformat": 4,
 "nbformat_minor": 2
}
