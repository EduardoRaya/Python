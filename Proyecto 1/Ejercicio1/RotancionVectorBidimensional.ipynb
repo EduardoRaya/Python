{
 "cells": [
  {
   "cell_type": "markdown",
   "metadata": {},
   "source": [
    "Arturo Nájera Santos\n",
    "Daniel Eduardo Raya Maldonado\n",
    "Programa para la rotancion de un vector bidimensional"
   ]
  },
  {
   "cell_type": "code",
   "execution_count": 3,
   "metadata": {},
   "outputs": [
    {
     "name": "stdout",
     "output_type": "stream",
     "text": [
      "-3.932609833982168 2.129455304453875\n"
     ]
    }
   ],
   "source": [
    "import numpy as np\n",
    "import math \n",
    "\n",
    "A = [-2,4] #vector que se va a rotar\n",
    "Ang = 35 #angulo de rotacion\n",
    "\n",
    "def rotacion(A,Ang):\n",
    "    AngR = math.radians(Ang)\n",
    "    sen = math.sin(AngR)\n",
    "    cos = math.cos(AngR)\n",
    "    x = (cos*A[0]) + (-sen*A[1])\n",
    "    y = (sen*A[0]) + (cos*A[1])\n",
    "    print(x,y)\n",
    "\n",
    "rotacion(A,Ang)\n",
    "\n"
   ]
  }
 ],
 "metadata": {
  "kernelspec": {
   "display_name": "Python 3",
   "language": "python",
   "name": "python3"
  },
  "language_info": {
   "codemirror_mode": {
    "name": "ipython",
    "version": 3
   },
   "file_extension": ".py",
   "mimetype": "text/x-python",
   "name": "python",
   "nbconvert_exporter": "python",
   "pygments_lexer": "ipython3",
   "version": "3.12.1"
  }
 },
 "nbformat": 4,
 "nbformat_minor": 2
}
