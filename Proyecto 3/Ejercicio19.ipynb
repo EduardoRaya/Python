{
 "cells": [
  {
   "cell_type": "markdown",
   "metadata": {},
   "source": [
    "Integrantes\n",
    "Arturo Najera Santos\n",
    "Daniel Eduardo Raya Maldonado"
   ]
  },
  {
   "cell_type": "code",
   "execution_count": null,
   "metadata": {},
   "outputs": [
    {
     "data": {
      "text/plain": [
       "(array([[ 0.07868618, -0.83264764, -0.54818292],\n",
       "        [ 0.08360464,  0.55346045, -0.82866773],\n",
       "        [ 0.99339   ,  0.01937419,  0.11316362]]),\n",
       " array([[ 2.03345,  1.29854],\n",
       "        [ 0.     ,  0.00261],\n",
       "        [ 0.     , -0.     ]]),\n",
       " array([1.00021925, 0.99965559]))"
      ]
     },
     "execution_count": 8,
     "metadata": {},
     "output_type": "execute_result"
    }
   ],
   "source": [
    "import numpy as np\n",
    "from numpy import linalg as la\n",
    "\n",
    "#Definimos las matrices del sistema\n",
    "A = np.array([[0.16, 0.10],[0.17, 0.11],[2.02, 1.29]]) \n",
    "b = np.array([0.26, 0.28, 3.31])\n",
    "\n",
    "def Givens(A):\n",
    "  R=np.copy(A)\n",
    "  Q=np.eye(len(A))\n",
    "  for i in range(A.shape[1]): # maneja el pivote\n",
    "    for j in range(i+1,len(A)):\n",
    "      G=np.eye(len(R))\n",
    "      ro=la.norm([R[i,i],R[j,i]])\n",
    "      c=R[i,i]/ro\n",
    "      s=R[j,i]/ro\n",
    "      G[i,i]=c; G[i,j]=s;\n",
    "      G[j,j]=c; G[j,i]=-s;\n",
    "      R=G@R\n",
    "\n",
    "      R=np.round(R,5)\n",
    "      G=np.round(G,5)\n",
    "      Q=Q@G.T\n",
    "  return Q,R\n",
    "\n",
    "Q,R=Givens(A)\n",
    "\n",
    "\n",
    "def MinimoCuadrado(A, b):\n",
    "    # Usamos Givens\n",
    "    Q,R=Givens(A)\n",
    "\n",
    "\n",
    "    n = A.shape[1]\n",
    "    R_square = R[:n, :n]\n",
    "    Qb = Q.T @ b\n",
    "\n",
    "    # Resolvemos el sistema cuadrado\n",
    "    x = np.linalg.solve(R_square, Qb[:n])\n",
    "    return Q, R, x\n",
    "\n",
    "Q, R, x = MinimoCuadrado(A, b)\n",
    "Q, R, x"
   ]
  }
 ],
 "metadata": {
  "kernelspec": {
   "display_name": "Python 3",
   "language": "python",
   "name": "python3"
  },
  "language_info": {
   "codemirror_mode": {
    "name": "ipython",
    "version": 3
   },
   "file_extension": ".py",
   "mimetype": "text/x-python",
   "name": "python",
   "nbconvert_exporter": "python",
   "pygments_lexer": "ipython3",
   "version": "3.12.1"
  }
 },
 "nbformat": 4,
 "nbformat_minor": 2
}
