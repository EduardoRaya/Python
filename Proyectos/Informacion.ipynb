{
 "cells": [
  {
   "cell_type": "code",
   "execution_count": 1,
   "metadata": {},
   "outputs": [],
   "source": [
    "import numpy as np\n",
    "import pandas as pd\n",
    "import yfinance as yf\n",
    "\n",
    "from IPython.display import display # Esta librería es sólo para ver los dataframes bonitos."
   ]
  },
  {
   "cell_type": "code",
   "execution_count": 2,
   "metadata": {},
   "outputs": [],
   "source": [
    "# Lista 1\n",
    "tickers_list_1 = ['AAPL', 'MSFT', 'GOOGL', 'NVDA', 'AMD']\n",
    "\n",
    "# Lista 2\n",
    "tickers_list_2 = ['TSLA', 'WMT', 'NKE', 'DIS', 'KO']"
   ]
  },
  {
   "cell_type": "code",
   "execution_count": 3,
   "metadata": {},
   "outputs": [],
   "source": [
    "# Descargar la información histórica para cada ticker de la lista 1\n",
    "historical_data_1 = pd.DataFrame()  # DataFrame vacío para almacenar los datos\n",
    "for ticker in tickers_list_1:\n",
    "    data = yf.Ticker(ticker).history(period=\"1y\")[['Close']]\n",
    "    data.columns = [ticker]  # Cambiar el nombre de la columna a ser el ticker\n",
    "    historical_data_1 = pd.concat([historical_data_1, data], axis=1)\n",
    "\n",
    "# Descargar la información histórica para cada ticker de la lista 2\n",
    "historical_data_2 = pd.DataFrame()  # DataFrame vacío para almacenar los datos\n",
    "for ticker in tickers_list_2:\n",
    "    data = yf.Ticker(ticker).history(period=\"1y\")[['Close']]\n",
    "    data.columns = [ticker]  # Cambiar el nombre de la columna a ser el ticker\n",
    "    historical_data_2 = pd.concat([historical_data_2, data], axis=1)\n",
    "\n",
    "# Finalmente, ajustamos el índice DateTime para que solo muestre año, mes y día\n",
    "historical_data_1.index = historical_data_1.index.date\n",
    "historical_data_2.index = historical_data_2.index.date"
   ]
  },
  {
   "cell_type": "code",
   "execution_count": 4,
   "metadata": {},
   "outputs": [
    {
     "name": "stdout",
     "output_type": "stream",
     "text": [
      "Datos históricos de la lista 1:\n",
      "\n"
     ]
    },
    {
     "data": {
      "text/html": [
       "<div>\n",
       "<style scoped>\n",
       "    .dataframe tbody tr th:only-of-type {\n",
       "        vertical-align: middle;\n",
       "    }\n",
       "\n",
       "    .dataframe tbody tr th {\n",
       "        vertical-align: top;\n",
       "    }\n",
       "\n",
       "    .dataframe thead th {\n",
       "        text-align: right;\n",
       "    }\n",
       "</style>\n",
       "<table border=\"1\" class=\"dataframe\">\n",
       "  <thead>\n",
       "    <tr style=\"text-align: right;\">\n",
       "      <th></th>\n",
       "      <th>AAPL</th>\n",
       "      <th>MSFT</th>\n",
       "      <th>GOOGL</th>\n",
       "      <th>NVDA</th>\n",
       "      <th>AMD</th>\n",
       "    </tr>\n",
       "  </thead>\n",
       "  <tbody>\n",
       "    <tr>\n",
       "      <th>2023-10-16</th>\n",
       "      <td>177.810120</td>\n",
       "      <td>330.161774</td>\n",
       "      <td>138.756409</td>\n",
       "      <td>46.081062</td>\n",
       "      <td>106.459999</td>\n",
       "    </tr>\n",
       "    <tr>\n",
       "      <th>2023-10-17</th>\n",
       "      <td>176.248108</td>\n",
       "      <td>329.586121</td>\n",
       "      <td>139.374893</td>\n",
       "      <td>43.924709</td>\n",
       "      <td>105.139999</td>\n",
       "    </tr>\n",
       "    <tr>\n",
       "      <th>2023-10-18</th>\n",
       "      <td>174.944794</td>\n",
       "      <td>327.650635</td>\n",
       "      <td>137.619232</td>\n",
       "      <td>42.183239</td>\n",
       "      <td>102.169998</td>\n",
       "    </tr>\n",
       "    <tr>\n",
       "      <th>2023-10-19</th>\n",
       "      <td>174.566727</td>\n",
       "      <td>328.851624</td>\n",
       "      <td>137.409760</td>\n",
       "      <td>42.088268</td>\n",
       "      <td>102.400002</td>\n",
       "    </tr>\n",
       "    <tr>\n",
       "      <th>2023-10-20</th>\n",
       "      <td>171.999863</td>\n",
       "      <td>324.236298</td>\n",
       "      <td>135.265060</td>\n",
       "      <td>41.374481</td>\n",
       "      <td>101.809998</td>\n",
       "    </tr>\n",
       "  </tbody>\n",
       "</table>\n",
       "</div>"
      ],
      "text/plain": [
       "                  AAPL        MSFT       GOOGL       NVDA         AMD\n",
       "2023-10-16  177.810120  330.161774  138.756409  46.081062  106.459999\n",
       "2023-10-17  176.248108  329.586121  139.374893  43.924709  105.139999\n",
       "2023-10-18  174.944794  327.650635  137.619232  42.183239  102.169998\n",
       "2023-10-19  174.566727  328.851624  137.409760  42.088268  102.400002\n",
       "2023-10-20  171.999863  324.236298  135.265060  41.374481  101.809998"
      ]
     },
     "metadata": {},
     "output_type": "display_data"
    },
    {
     "name": "stdout",
     "output_type": "stream",
     "text": [
      "\n",
      "Datos históricos de la lista 2:\n",
      "\n"
     ]
    },
    {
     "data": {
      "text/html": [
       "<div>\n",
       "<style scoped>\n",
       "    .dataframe tbody tr th:only-of-type {\n",
       "        vertical-align: middle;\n",
       "    }\n",
       "\n",
       "    .dataframe tbody tr th {\n",
       "        vertical-align: top;\n",
       "    }\n",
       "\n",
       "    .dataframe thead th {\n",
       "        text-align: right;\n",
       "    }\n",
       "</style>\n",
       "<table border=\"1\" class=\"dataframe\">\n",
       "  <thead>\n",
       "    <tr style=\"text-align: right;\">\n",
       "      <th></th>\n",
       "      <th>TSLA</th>\n",
       "      <th>WMT</th>\n",
       "      <th>NKE</th>\n",
       "      <th>DIS</th>\n",
       "      <th>KO</th>\n",
       "    </tr>\n",
       "  </thead>\n",
       "  <tbody>\n",
       "    <tr>\n",
       "      <th>2023-10-16</th>\n",
       "      <td>253.919998</td>\n",
       "      <td>53.020927</td>\n",
       "      <td>100.492851</td>\n",
       "      <td>85.039246</td>\n",
       "      <td>51.827080</td>\n",
       "    </tr>\n",
       "    <tr>\n",
       "      <th>2023-10-17</th>\n",
       "      <td>254.850006</td>\n",
       "      <td>53.089993</td>\n",
       "      <td>101.448143</td>\n",
       "      <td>85.525406</td>\n",
       "      <td>52.447880</td>\n",
       "    </tr>\n",
       "    <tr>\n",
       "      <th>2023-10-18</th>\n",
       "      <td>242.679993</td>\n",
       "      <td>53.129459</td>\n",
       "      <td>102.196617</td>\n",
       "      <td>84.017303</td>\n",
       "      <td>52.428482</td>\n",
       "    </tr>\n",
       "    <tr>\n",
       "      <th>2023-10-19</th>\n",
       "      <td>220.110001</td>\n",
       "      <td>52.876209</td>\n",
       "      <td>101.487541</td>\n",
       "      <td>82.598495</td>\n",
       "      <td>52.719482</td>\n",
       "    </tr>\n",
       "    <tr>\n",
       "      <th>2023-10-20</th>\n",
       "      <td>211.990005</td>\n",
       "      <td>52.215134</td>\n",
       "      <td>101.113297</td>\n",
       "      <td>82.003197</td>\n",
       "      <td>52.932880</td>\n",
       "    </tr>\n",
       "  </tbody>\n",
       "</table>\n",
       "</div>"
      ],
      "text/plain": [
       "                  TSLA        WMT         NKE        DIS         KO\n",
       "2023-10-16  253.919998  53.020927  100.492851  85.039246  51.827080\n",
       "2023-10-17  254.850006  53.089993  101.448143  85.525406  52.447880\n",
       "2023-10-18  242.679993  53.129459  102.196617  84.017303  52.428482\n",
       "2023-10-19  220.110001  52.876209  101.487541  82.598495  52.719482\n",
       "2023-10-20  211.990005  52.215134  101.113297  82.003197  52.932880"
      ]
     },
     "metadata": {},
     "output_type": "display_data"
    }
   ],
   "source": [
    "# Muestra los primeros datos descargados de ambas listas\n",
    "print(\"Datos históricos de la lista 1:\\n\")\n",
    "display(historical_data_1.head())\n",
    "\n",
    "print(\"\\nDatos históricos de la lista 2:\\n\")\n",
    "display(historical_data_2.head())"
   ]
  },
  {
   "cell_type": "code",
   "execution_count": null,
   "metadata": {},
   "outputs": [],
   "source": [
    "# Crea un archivo Excel con dos hojas\n",
    "with pd.ExcelWriter('Equipo X.xlsx') as writer: # Ponle un nombre cool a tu equipo!!\n",
    "    # Exporta el primer DataFrame a la hoja \"correlacionados\"\n",
    "    historical_data_1.to_excel(writer, sheet_name='correlacionados')\n",
    "\n",
    "    # Exporta el segundo DataFrame a la hoja \"no correlacionados\"\n",
    "    historical_data_2.to_excel(writer, sheet_name='no correlacionados')\n",
    "\n",
    "print(\"Los datos han sido exportados exitosamente al archivo 'Equipo X.xlsx'\")"
   ]
  },
  {
   "cell_type": "code",
   "execution_count": null,
   "metadata": {},
   "outputs": [],
   "source": [
    "def log_returns(df):\n",
    "  log_returns = np.log(df/df.shift(1)).dropna()\n",
    "  return log_returns\n",
    "\n"
   ]
  },
  {
   "cell_type": "code",
   "execution_count": null,
   "metadata": {},
   "outputs": [],
   "source": [
    "def correlcion(df_returns):\n",
    "  ##calcula y retorna la mat\n",
    "  correlacion = df_returns.corr\n",
    "  return correlacion"
   ]
  },
  {
   "cell_type": "code",
   "execution_count": null,
   "metadata": {},
   "outputs": [],
   "source": [
    "log_returns_correlated = log_returns(df_correlated)\n",
    "log_returns_non_correlated = log_returns(df_non_correlated)"
   ]
  },
  {
   "cell_type": "code",
   "execution_count": null,
   "metadata": {},
   "outputs": [],
   "source": [
    "def correlcion(df_returns):\n",
    "  ##calcula y retorna la mat\n",
    "correlacion = df_returns.corr\n",
    "return correlacion"
   ]
  }
 ],
 "metadata": {
  "kernelspec": {
   "display_name": "Python 3",
   "language": "python",
   "name": "python3"
  },
  "language_info": {
   "codemirror_mode": {
    "name": "ipython",
    "version": 3
   },
   "file_extension": ".py",
   "mimetype": "text/x-python",
   "name": "python",
   "nbconvert_exporter": "python",
   "pygments_lexer": "ipython3",
   "version": "3.12.1"
  }
 },
 "nbformat": 4,
 "nbformat_minor": 2
}
