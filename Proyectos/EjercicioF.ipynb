{
 "cells": [
  {
   "cell_type": "code",
   "execution_count": null,
   "metadata": {},
   "outputs": [],
   "source": [
    "Codigo del problema 1:"
   ]
  },
  {
   "cell_type": "code",
   "execution_count": null,
   "metadata": {},
   "outputs": [],
   "source": [
    "import numpy as np\n",
    "\n",
    "def PrecioOpcion(S, K, T, r, N, tipo='call'):\n",
    "\n",
    "    #- S: Precio inicial de la acción\n",
    "    #- K: Precio de ejercicio de la opción\n",
    "    #- T: Tiempo hasta el vencimiento (en años)\n",
    "    #- r: Tasa de interés libre de riesgo (anual, en forma decimal)\n",
    "    #- N: Número de pasos en el árbol binomial\n",
    "\n",
    "    T = 1   \n",
    "    u = 1.1 #porcentaje de subida\n",
    "    d = 0.9 #porcentaje de bajada\n",
    "\n",
    "    p = (np.exp(r * T) - d) / (u - d) #Probabilidad\n",
    "\n",
    "    # Precios del subyacente en el vencimiento\n",
    "    PrecioStock = np.zeros((N + 1, N + 1))\n",
    "    for i in range(N + 1):\n",
    "        for j in range(i + 1):\n",
    "            PrecioStock[j, i] = S * (u ** (i - j)) * (d ** j)\n",
    "\n",
    "    # Valor de la opción en el vencimiento\n",
    "    ValorOpcion = np.zeros((N + 1, N + 1))\n",
    "    for j in range(N + 1):\n",
    "        if tipo == 'call':\n",
    "            ValorOpcion[j, N] = max(0, PrecioStock[j, N] - K)\n",
    "        elif tipo == 'put':\n",
    "            ValorOpcion[j, N] = max(0, K - PrecioStock[j, N])\n",
    "\n",
    "    # Valoración hacia atrás\n",
    "    for i in range(N - 1, -1, -1):\n",
    "        for j in range(i + 1):\n",
    "            ValorOpcion[j, i] = np.exp(-r * T) * (p * ValorOpcion[j, i + 1] + (1 - p) * ValorOpcion[j + 1, i + 1])\n",
    "\n",
    "    return ValorOpcion[0, 0]\n",
    "\n",
    "S = 50      # Precio inicial de la acción\n",
    "K = 52      # Precio de ejercicio\n",
    "T = 1        # Tiempo hasta el vencimiento (1 año)\n",
    "r = 0.05     # Tasa de interés libre de riesgo (5%)\n",
    "N = 2        # Número de pasos\n",
    "\n",
    "PrecioC = PrecioOpcion(S, K, T, r, N, tipo='call')\n",
    "PrecioP = PrecioOpcion(S, K, T, r, N, tipo='put')\n",
    "\n",
    "print(f\"El precio de la opcion call es): {PrecioC:.2f}\")\n",
    "print(f\"El precio de la opcion put es): {PrecioP:.2f}\")"
   ]
  },
  {
   "cell_type": "markdown",
   "metadata": {},
   "source": [
    "Lo que se debe de hacer para aplicar la simulacion Monte Carlo para obtener el precion de una opcion es lo siguiente:\n",
    "    Lo primero a realizar es modelar el cambio del precio del activo subyacente, esto lo haremos con el modelo de Black-Scholes, que es el siguiente:\n",
    "    $S_T = S_0*e^{(r-(\\sigma^2/2)T+\\sigma*\\sqrt{T}*Z)}$ en donde: $\\\\$\n",
    "    -$S_T$ es el precio del activo al vencimiento $\\\\$\n",
    "    -$S_0$ Precio inicial del activo $\\\\$\n",
    "    -$r$ tasa de interes libre de riesgo $\\\\$\n",
    "    -$\\sigma$ volatilidad $\\\\$\n",
    "    -$T$ tiempo al vencimiento $\\\\$\n",
    "    -$Z$ variable aleatoria normal $\\\\$\n",
    "    Ya que establecimos el modelo que utilizaremos ahora generaremos valores del precio del activo al vencimiento es decir de $S_T$ y lo haremos utilizando numeros aleatorios obtenidos de $Z$ la cual nos dara numeros de una distribucion normal, con esto calcularemos los Payoffs de la opcion los cuales se calculan con: $max(S_T - K,0)$ y haremos un promedio de esto el cual traeremos a valor presente. $\\\\$\n",
    "    El codigo quedaria de la siguiente manera:\n",
    "    "
   ]
  },
  {
   "cell_type": "code",
   "execution_count": null,
   "metadata": {},
   "outputs": [],
   "source": [
    "import numpy as np\n",
    "\n",
    "S0 = 50      \n",
    "K = 55       \n",
    "r = 0.03     \n",
    "Vol = 0.25 \n",
    "T = 1.0      \n",
    "N = 100000  #Es el numero de simulaciones que se haran\n",
    "\n",
    "Z = np.random.normal(0, 1, N)  #valores de la distribucion normal\n",
    "ST = S0 * np.exp((r - 0.5 * Vol**2) * T + Vol * np.sqrt(T) * Z) # Generacion de los valores S_T\n",
    "\n",
    "payoffs = np.maximum(ST - K, 0)#Calculo de los payoffs\n",
    "\n",
    "PrecioOpc = np.exp(-r * T) * np.mean(payoffs)#Precio de la opcion que es eSl promedio de los payoffs traido a valor presente\n",
    "\n",
    "print(f\"EL precio de la opcion es: ${PrecioOpc:.2f}\")"
   ]
  }
 ],
 "metadata": {
  "kernelspec": {
   "display_name": "Python 3",
   "language": "python",
   "name": "python3"
  },
  "language_info": {
   "name": "python",
   "version": "3.12.1"
  }
 },
 "nbformat": 4,
 "nbformat_minor": 2
}
