{
 "cells": [
  {
   "cell_type": "markdown",
   "metadata": {},
   "source": [
    "Integrantes\n",
    "Arturo Najera Santos\n",
    "Daniel Eduardo Raya Maldonado"
   ]
  },
  {
   "cell_type": "markdown",
   "metadata": {},
   "source": [
    "Ejercicio 2: Metodo de Biseccion "
   ]
  },
  {
   "cell_type": "code",
   "execution_count": null,
   "metadata": {},
   "outputs": [],
   "source": [
    "import math \n",
    "\n",
    "def biseccion(f,Tol,N,a,b):\n",
    "    sucesion=[]\n",
    "    fa, fb = f(a), f(b)\n",
    "    #no hay un cambio de signo (teorema del valor medio)\n",
    "    #no existe raiz en el intervalo [a,b]\n",
    "    if fa*fb>0:\n",
    "        print (\"no hay raiz en [a,b]\")\n",
    "        return\n",
    "    #contador de iteraciones\n",
    "    n=1\n",
    "    x0=0.0\n",
    "    #mientras no se exceda el numero de iteraciones\n",
    "    while n<=N:\n",
    "        #se busca la raiz en el punto medio\n",
    "        x1=(a+b)/2.0\n",
    "        fx=f(x1)\n",
    "        sucesion.append(x1)\n",
    "        #en caso de que la iteracion siguiente y la diferencia\n",
    "        #entre la iteracion anterior no excedan Tol, entonces\n",
    "        #la iteracion actual se aproxima a la solucion buscada\n",
    "        if abs(f(x1)) <= Tol and abs(x1-x0) <= Tol:\n",
    "            return x1, sucesion\n",
    "        #en caso de no cumplir el criterio de tolerancia\n",
    "        #se actualiza el rango de busqueda\n",
    "        if (fa*fx <0.0):\n",
    "            b=x1\n",
    "        if (fx*fa >0.0):\n",
    "            a=x1\n",
    "        x0=x1\n",
    "        #se incrementa el contador de iteraciones\n",
    "        n=n+1\n",
    "\n",
    "\n"
   ]
  },
  {
   "cell_type": "markdown",
   "metadata": {},
   "source": [
    "$f(x) = x-2^{-x}$ para $0 \\leq x \\leq 1$"
   ]
  },
  {
   "cell_type": "code",
   "execution_count": 15,
   "metadata": {},
   "outputs": [
    {
     "name": "stdout",
     "output_type": "stream",
     "text": [
      "La raíz con el método de la bisección del ejercicio a es: 0.125\n"
     ]
    }
   ],
   "source": [
    "def f(x):\n",
    "  return (x)-(2**-3)\n",
    "raiz, sus = biseccion(f,0.00001,1000,0,1)\n",
    "print(\"La raíz con el método de la bisección del ejercicio a es:\", raiz)"
   ]
  },
  {
   "cell_type": "markdown",
   "metadata": {},
   "source": [
    "$f(x) = e^x-x^2+3x-2$ para $0 \\leq x \\leq 1$"
   ]
  },
  {
   "cell_type": "code",
   "execution_count": 16,
   "metadata": {},
   "outputs": [
    {
     "name": "stdout",
     "output_type": "stream",
     "text": [
      "La raíz con el método de la bisección del ejercicio a es: 0.25753021240234375\n"
     ]
    }
   ],
   "source": [
    "def f(x):\n",
    "  return (math.e**x)-(x**2)+(3*x)-2\n",
    "raiz, sus = biseccion(f,0.00001,1000,0,1)\n",
    "print(\"La raíz con el método de la bisección del ejercicio a es:\", raiz)"
   ]
  },
  {
   "cell_type": "markdown",
   "metadata": {},
   "source": [
    "$f(x) = 2xcos(2x)-(x+1)^2$ para $-3 \\leq x \\leq -2$ y $-1 \\leq x \\leq 0$"
   ]
  },
  {
   "cell_type": "code",
   "execution_count": 22,
   "metadata": {},
   "outputs": [
    {
     "name": "stdout",
     "output_type": "stream",
     "text": [
      "La raíz con el método de la bisección del ejercicio a es: -0.7981605529785156\n",
      "La raíz con el método de la bisección del ejercicio a es: -2.1913070678710938\n"
     ]
    }
   ],
   "source": [
    "def f(x):\n",
    "  return (2*x)*(math.cos(2*x))-(x+1)**2\n",
    "raiz, sus = biseccion(f,0.00001,1000,-1,0)\n",
    "print(\"La raíz con el método de la bisección del ejercicio a es:\", raiz)\n",
    "raiz, sus = biseccion(f,0.00001,1000,-3,-2)\n",
    "print(\"La raíz con el método de la bisección del ejercicio a es:\", raiz)"
   ]
  },
  {
   "cell_type": "markdown",
   "metadata": {},
   "source": [
    "$f(x) = xcos(2x)-2x^2+3x-1$ para $0.2 \\leq x \\leq 0.3$ y $1.2 \\leq x \\leq 1.3$"
   ]
  },
  {
   "cell_type": "code",
   "execution_count": null,
   "metadata": {},
   "outputs": [],
   "source": [
    "def f(x):\n",
    "  return x(math.cos(2*x))-(2*(x**2))+(3*x)-1\n",
    "raiz, sus = biseccion(f,0.00001,1000,0.2,0.3)\n",
    "print(\"La raíz con el método de la bisección del ejercicio a es:\", raiz)\n",
    "raiz, sus = biseccion(f,0.00001,1000,1.2,1.3)\n",
    "print(\"La raíz con el método de la bisección del ejercicio a es:\", raiz)"
   ]
  }
 ],
 "metadata": {
  "kernelspec": {
   "display_name": "Python 3",
   "language": "python",
   "name": "python3"
  },
  "language_info": {
   "codemirror_mode": {
    "name": "ipython",
    "version": 3
   },
   "file_extension": ".py",
   "mimetype": "text/x-python",
   "name": "python",
   "nbconvert_exporter": "python",
   "pygments_lexer": "ipython3",
   "version": "3.12.1"
  }
 },
 "nbformat": 4,
 "nbformat_minor": 2
}
