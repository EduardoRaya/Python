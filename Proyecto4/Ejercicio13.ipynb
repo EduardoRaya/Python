{
 "cells": [
  {
   "cell_type": "markdown",
   "metadata": {},
   "source": [
    "Integrantes\n",
    "Arturo Najera Santos\n",
    "Daniel Eduardo Raya Maldonado"
   ]
  },
  {
   "cell_type": "markdown",
   "metadata": {},
   "source": [
    "Ejercicio 13: Metodo Newton de varias variables"
   ]
  },
  {
   "cell_type": "code",
   "execution_count": 2,
   "metadata": {},
   "outputs": [
    {
     "ename": "TypeError",
     "evalue": "'numpy.float64' object is not callable",
     "output_type": "error",
     "traceback": [
      "\u001b[0;31m---------------------------------------------------------------------------\u001b[0m",
      "\u001b[0;31mTypeError\u001b[0m                                 Traceback (most recent call last)",
      "Cell \u001b[0;32mIn[2], line 58\u001b[0m\n\u001b[1;32m     55\u001b[0m     \u001b[38;5;28mprint\u001b[39m(\u001b[38;5;124m'\u001b[39m\u001b[38;5;124mAproximacion evaluada en f2\u001b[39m\u001b[38;5;124m'\u001b[39m)\n\u001b[1;32m     56\u001b[0m     \u001b[38;5;28mprint\u001b[39m(f2(sol[\u001b[38;5;241m0\u001b[39m], sol[\u001b[38;5;241m1\u001b[39m]))\n\u001b[0;32m---> 58\u001b[0m \u001b[43mmain\u001b[49m\u001b[43m(\u001b[49m\u001b[43m)\u001b[49m\n",
      "Cell \u001b[0;32mIn[2], line 50\u001b[0m, in \u001b[0;36mmain\u001b[0;34m()\u001b[0m\n\u001b[1;32m     47\u001b[0m \u001b[38;5;28;01mdef\u001b[39;00m \u001b[38;5;21mmain\u001b[39m():\n\u001b[1;32m     48\u001b[0m     \u001b[38;5;66;03m#Aproximacion inicial (X=(0.0,0.0))\u001b[39;00m\n\u001b[1;32m     49\u001b[0m     ap \u001b[38;5;241m=\u001b[39m np\u001b[38;5;241m.\u001b[39mzeros([\u001b[38;5;241m2\u001b[39m])\n\u001b[0;32m---> 50\u001b[0m     sol \u001b[38;5;241m=\u001b[39m \u001b[43mNewtonVarias\u001b[49m\u001b[43m(\u001b[49m\u001b[43map\u001b[49m\u001b[43m)\u001b[49m\n\u001b[1;32m     51\u001b[0m     \u001b[38;5;28mprint\u001b[39m(\u001b[38;5;124m'\u001b[39m\u001b[38;5;124mAproximacion de la solucion\u001b[39m\u001b[38;5;124m'\u001b[39m)\n\u001b[1;32m     52\u001b[0m     \u001b[38;5;28mprint\u001b[39m(sol)\n",
      "Cell \u001b[0;32mIn[2], line 36\u001b[0m, in \u001b[0;36mNewtonVarias\u001b[0;34m(aprox)\u001b[0m\n\u001b[1;32m     34\u001b[0m fx \u001b[38;5;241m=\u001b[39m np\u001b[38;5;241m.\u001b[39marray(aprox)\n\u001b[1;32m     35\u001b[0m fx[\u001b[38;5;241m0\u001b[39m] \u001b[38;5;241m=\u001b[39m f1(aprox[\u001b[38;5;241m0\u001b[39m], aprox[\u001b[38;5;241m1\u001b[39m])\n\u001b[0;32m---> 36\u001b[0m fx[\u001b[38;5;241m1\u001b[39m] \u001b[38;5;241m=\u001b[39m \u001b[43mf2\u001b[49m\u001b[43m(\u001b[49m\u001b[43maprox\u001b[49m\u001b[43m[\u001b[49m\u001b[38;5;241;43m0\u001b[39;49m\u001b[43m]\u001b[49m\u001b[43m,\u001b[49m\u001b[43m \u001b[49m\u001b[43maprox\u001b[49m\u001b[43m[\u001b[49m\u001b[38;5;241;43m1\u001b[39;49m\u001b[43m]\u001b[49m\u001b[43m)\u001b[49m\n\u001b[1;32m     38\u001b[0m \u001b[38;5;66;03m# FORMA ITERATIVA DEL METODO DE NEWTON PARA SISTEMAS NO LIENALES\u001b[39;00m\n\u001b[1;32m     39\u001b[0m aprox \u001b[38;5;241m=\u001b[39m aprox \u001b[38;5;241m-\u001b[39m LA\u001b[38;5;241m.\u001b[39msolve(jacob, fx)\n",
      "Cell \u001b[0;32mIn[2], line 11\u001b[0m, in \u001b[0;36mf2\u001b[0;34m(x1, x2)\u001b[0m\n\u001b[1;32m     10\u001b[0m \u001b[38;5;28;01mdef\u001b[39;00m \u001b[38;5;21mf2\u001b[39m(x1, x2):\n\u001b[0;32m---> 11\u001b[0m     \u001b[38;5;28;01mreturn\u001b[39;00m x1 \u001b[38;5;241m+\u001b[39m x2\u001b[38;5;241m*\u001b[39m(\u001b[43mx2\u001b[49m\u001b[43m(\u001b[49m\u001b[38;5;241;43m1\u001b[39;49m\u001b[38;5;241;43m+\u001b[39;49m\u001b[43mx2\u001b[49m\u001b[43m)\u001b[49m\u001b[38;5;241m+\u001b[39m\u001b[38;5;241m14\u001b[39m) \u001b[38;5;241m-\u001b[39m\u001b[38;5;241m29\u001b[39m\n",
      "\u001b[0;31mTypeError\u001b[0m: 'numpy.float64' object is not callable"
     ]
    }
   ],
   "source": [
    "import numpy as np\n",
    "import math\n",
    "from numpy import linalg as LA\n",
    "\n",
    "# funcion f1\n",
    "def f1(x1, x2):\n",
    "    return x1 + x2*(x2*(x2*(5-x2)-2)) - 13\n",
    "\n",
    "# funcion f2\n",
    "def f2(x1, x2):\n",
    "    return x1 + x2*(x2(1+x2)+14) -29\n",
    "\n",
    "# parcial (en este caso la parcial de f1 y f2 es la misma)\n",
    "def par(x):\n",
    "    return 2+math.e**(-x)\n",
    "\n",
    "\n",
    "\n",
    "def NewtonVarias(aprox):\n",
    "    # contador de iteraciones\n",
    "    n = 0\n",
    "    while n < 100: # maximo numero de iteraciones 100\n",
    "        '''es necesario calcular la matriz jacobiana\n",
    "        y para ello se necesita una matriz vacia de 2x2'''\n",
    "        jacob = np.zeros([2,2])\n",
    "\n",
    "        # valores de la matriz jacobiana en todas sus entradas\n",
    "        jacob[0][0] = par(aprox[0])\n",
    "        jacob[0][1] = -1\n",
    "        jacob[1][0] = -1\n",
    "        jacob[1][1] = par(aprox[1])\n",
    "\n",
    "        # guarda la evalucion de f1 y f2 en forma de vector\n",
    "        fx = np.array(aprox)\n",
    "        fx[0] = f1(aprox[0], aprox[1])\n",
    "        fx[1] = f2(aprox[0], aprox[1])\n",
    "\n",
    "        # FORMA ITERATIVA DEL METODO DE NEWTON PARA SISTEMAS NO LIENALES\n",
    "        aprox = aprox - LA.solve(jacob, fx)\n",
    "\n",
    "        # se incrementa el contador\n",
    "        n+=1\n",
    "\n",
    "    # El valor devuelto es la aproximacion\n",
    "    return aprox\n",
    "\n",
    "def main():\n",
    "    #Aproximacion inicial (X=(0.0,0.0))\n",
    "    ap = np.zeros([2])\n",
    "    sol = NewtonVarias(ap)\n",
    "    print('Aproximacion de la solucion')\n",
    "    print(sol)\n",
    "    print('Aproximacion evaluada en f1')\n",
    "    print(f1(sol[0], sol[1]))\n",
    "    print('Aproximacion evaluada en f2')\n",
    "    print(f2(sol[0], sol[1]))\n",
    "\n",
    "main()"
   ]
  }
 ],
 "metadata": {
  "kernelspec": {
   "display_name": "Python 3",
   "language": "python",
   "name": "python3"
  },
  "language_info": {
   "codemirror_mode": {
    "name": "ipython",
    "version": 3
   },
   "file_extension": ".py",
   "mimetype": "text/x-python",
   "name": "python",
   "nbconvert_exporter": "python",
   "pygments_lexer": "ipython3",
   "version": "3.12.1"
  }
 },
 "nbformat": 4,
 "nbformat_minor": 2
}
