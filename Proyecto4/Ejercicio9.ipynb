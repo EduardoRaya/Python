{
 "cells": [
  {
   "cell_type": "markdown",
   "metadata": {},
   "source": [
    "Integrantes\n",
    "Arturo Najera Santos\n",
    "Daniel Eduardo Raya Maldonado"
   ]
  },
  {
   "cell_type": "markdown",
   "metadata": {},
   "source": [
    "Ejercicio 9: Uso de Newton para hallar la solucion."
   ]
  },
  {
   "cell_type": "code",
   "execution_count": 4,
   "metadata": {},
   "outputs": [],
   "source": [
    "def Newton(f, x1, tol=1e-8):\n",
    "    \"\"\"En cuentra el f(x0) con el método de Newton.\n",
    "    \"\"\"\n",
    "    k = 0\n",
    "    x0 = x1+1\n",
    "    while abs(x1 - x0) > tol and k < 1000:\n",
    "        if ddx(f, x1) != 0:\n",
    "            x0 = x1\n",
    "            x1 = x1 - f(x1)/ddx(f, x1)\n",
    "        k += 1\n",
    "    return x1\n",
    "\n",
    "def ddx(f, x):\n",
    "    \"\"\"Calcula la derivada de f en x.\n",
    "    \"\"\"\n",
    "    h = 10e-8\n",
    "    return (f(x+h) - f(x))/h"
   ]
  },
  {
   "cell_type": "code",
   "execution_count": 5,
   "metadata": {},
   "outputs": [
    {
     "name": "stdout",
     "output_type": "stream",
     "text": [
      "a) 1.829384\t0.000000\n",
      "b) 2.370687\t0.000000\n",
      "c) 0.910008\t-0.000000\n"
     ]
    }
   ],
   "source": [
    "import math\n",
    "\n",
    "# a) \n",
    "f = lambda x: math.e**x + 2**-x + 2*math.cos(x) - 6\n",
    "\n",
    "x0 = Newton(f, 1., tol=1e-5)\n",
    "print(\"a) {:.6f}\\t{:.6f}\".format(x0, f(x0)))\n",
    "\n",
    "# b) \n",
    "f = lambda x: 2*x*math.cos(2*x) - (x-2)**2\n",
    "x0 = Newton(f, 1., tol=1e-5)\n",
    "print(\"b) {:.6f}\\t{:.6f}\".format(x0, f(x0)))\n",
    "\n",
    "# c) \n",
    "f = lambda x: math.e**x - 3*x**2\n",
    "\n",
    "x0 = Newton(f, .92, tol=1e-5)\n",
    "print(\"c) {:.6f}\\t{:.6f}\".format(x0, f(x0)))\n"
   ]
  }
 ],
 "metadata": {
  "kernelspec": {
   "display_name": "Python 3",
   "language": "python",
   "name": "python3"
  },
  "language_info": {
   "codemirror_mode": {
    "name": "ipython",
    "version": 3
   },
   "file_extension": ".py",
   "mimetype": "text/x-python",
   "name": "python",
   "nbconvert_exporter": "python",
   "pygments_lexer": "ipython3",
   "version": "3.12.1"
  }
 },
 "nbformat": 4,
 "nbformat_minor": 2
}
