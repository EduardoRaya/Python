{
 "cells": [
  {
   "cell_type": "markdown",
   "metadata": {},
   "source": [
    "Integrantes\n",
    "Arturo Najera Santos\n",
    "Daniel Eduardo Raya Maldonado"
   ]
  },
  {
   "cell_type": "markdown",
   "metadata": {},
   "source": [
    "Ejercicio 1: Programacion de metodos."
   ]
  },
  {
   "cell_type": "code",
   "execution_count": 1,
   "metadata": {},
   "outputs": [
    {
     "name": "stdout",
     "output_type": "stream",
     "text": [
      "x0: -2.00279100531578e-09\n"
     ]
    }
   ],
   "source": [
    "def bisección(f, a, b, tol=1e-8):\n",
    "    \"\"\"Devuelve para la función f el punto punto x0 para el cual f(x0)=0.\n",
    "    \"\"\"\n",
    "    m = (a + b) / 2\n",
    "    while b-a > tol:\n",
    "        m = (a + b) / 2\n",
    "        if f(a)*f(m) < 0:\n",
    "            b = m\n",
    "        else:\n",
    "            a = m\n",
    "    return m\n",
    "\n",
    "def secante(f, x1, x2, tol=1e-8):\n",
    "    \"\"\"Devuelve la el punto para el cual la función f(x0)=0.\n",
    "    \"\"\"\n",
    "    k = 0\n",
    "    while abs(x2 - x1) > tol and k < 1000:\n",
    "        if f(x1) - f(x2) != 0:\n",
    "            x3 = x2 - f(x1)*(x2 - x1)/(f(x2) - f(x1))\n",
    "            x1 = x2 \n",
    "            x2 = x3\n",
    "        else:\n",
    "            break\n",
    "        k = k + 1\n",
    "    return x3\n",
    "\n",
    "\n",
    "def ddx(f, x):\n",
    "    \"\"\"Calcula la derivada de f en x.\n",
    "    \"\"\"\n",
    "    h = 10e-8\n",
    "    return (f(x+h) - f(x))/h\n",
    "\n",
    "\n",
    "def Newton(f, x1, tol=1e-8):\n",
    "    \"\"\"En cuentra el f(x0) con el método de Newton.\n",
    "    \"\"\"\n",
    "    k = 0\n",
    "    x0 = x1+1\n",
    "    while abs(x1 - x0) > tol and k < 1000:\n",
    "        if ddx(f, x1) != 0:\n",
    "            x0 = x1\n",
    "            x1 = x1 - f(x1)/ddx(f, x1)\n",
    "        k += 1\n",
    "    return x1\n",
    "\n",
    "\n",
    "def regla_fasla():\n",
    "    return None\n",
    "\n",
    "# Función de prueba\n",
    "def f(x): \n",
    "    return x**3\n",
    "\n",
    "if __name__ == \"__main__\":\n",
    "    x0 = Newton(f, -10)\n",
    "\n",
    "    print(\"x0:\", x0)"
   ]
  }
 ],
 "metadata": {
  "kernelspec": {
   "display_name": "Python 3",
   "language": "python",
   "name": "python3"
  },
  "language_info": {
   "codemirror_mode": {
    "name": "ipython",
    "version": 3
   },
   "file_extension": ".py",
   "mimetype": "text/x-python",
   "name": "python",
   "nbconvert_exporter": "python",
   "pygments_lexer": "ipython3",
   "version": "3.12.1"
  }
 },
 "nbformat": 4,
 "nbformat_minor": 2
}
