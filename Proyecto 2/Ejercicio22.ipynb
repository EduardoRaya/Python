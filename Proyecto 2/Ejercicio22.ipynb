{
 "cells": [
  {
   "cell_type": "code",
   "execution_count": null,
   "metadata": {},
   "outputs": [],
   "source": [
    "import numpy as np\n",
    "from LU_PivoteoParcial import *\n",
    "\n",
    "n = 100\n",
    "# Matriz A asociada al sistema. \n",
    "A  = np.eye(n)\n",
    "# Diagonal principal \n",
    "for i in range(n): \n",
    "    A[i, i] = 6\n",
    "A[0, 0] = 9\n",
    "A[n-2, n-2] = 5\n",
    "A[n-1, n-1] = 1\n",
    "\n",
    "# Banda inferior\n",
    "for i in range(99):\n",
    "    A[i+1, i] = -4\n",
    "A[n-1, n-2] = -2\n",
    "\n",
    "for i in range(98):\n",
    "    A[i+2, i] = 1\n",
    "\n",
    "# Banda superior\n",
    "for i in range(n):\n",
    "    for j in range(i, n):\n",
    "        A[i, j] = A[j, i]\n",
    "\n",
    "# \n",
    "b = np.array([1 for _ in range(100)])\n",
    "\n",
    "\n",
    "# (a) Factorización LU.\n",
    "L, U = FactLU(A)\n",
    "\n",
    "# (b) Crear una rutina (tipo bandada) para la estructura de la matriz y resolver. \n",
    "\n",
    "\n",
    "\n"
   ]
  }
 ],
 "metadata": {
  "language_info": {
   "name": "python"
  }
 },
 "nbformat": 4,
 "nbformat_minor": 2
}
