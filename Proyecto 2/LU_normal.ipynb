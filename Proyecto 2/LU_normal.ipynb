{
 "cells": [
  {
   "cell_type": "code",
   "execution_count": null,
   "metadata": {},
   "outputs": [],
   "source": [
    "\"\"\"Código visto en clase\"\"\"\n",
    "import numpy\n",
    "\n",
    "def FactLU(A):\n",
    "  U=np.copy(A)\n",
    "  n=A.shape[1]\n",
    "  L=np.eye(n)\n",
    "  for j in range(n):\n",
    "    Lj=np.eye(n)\n",
    "    for i in range(j+1,n):\n",
    "      Lj[i,j]=-U[i,j]/U[j,j]\n",
    "    L=L@Lj\n",
    "    #print(Lj,j)\n",
    "    U=Lj@U\n",
    "  L=2*np.eye(n)-L\n",
    "  return L,U\n",
    "\n",
    "def SustDelante(L,b):\n",
    "  x=np.zeros_like(b)\n",
    "  n=L.shape[0]# cantidad de renglones de L\n",
    "  for i in range(n):\n",
    "    sum=0.0\n",
    "    for j in range(i):\n",
    "      sum+=L[i,j]*x[j]\n",
    "    x[i]=(b[i]-sum)/L[i,i]\n",
    "\n",
    "  return x\n",
    "\n",
    "def SustAtras(U,y):\n",
    "  x=np.zeros_like(y)\n",
    "  n=U.shape[0]# cantidad de renglones de U\n",
    "  x[n-1]=y[n-1]/U[n-1][n-1]\n",
    "\n",
    "  for i in range(n-2,-1,-1):\n",
    "    sum=0.0\n",
    "    for j in range(i+1,n):\n",
    "      sum+=U[i,j]*x[j]\n",
    "    x[i]=(y[i]-sum)/U[i,i]\n",
    "\n",
    "  return x\n",
    "\n",
    "def SolverLU(A,b):\n",
    "  L,U=FactLU(A)\n",
    "  y=SustDelante(L,b)\n",
    "  x=SustAtras(U,y)\n",
    "\n",
    "  return x\n"
   ]
  }
 ],
 "metadata": {
  "language_info": {
   "name": "python"
  }
 },
 "nbformat": 4,
 "nbformat_minor": 2
}
