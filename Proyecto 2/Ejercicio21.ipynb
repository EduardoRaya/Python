{
 "cells": [
  {
   "cell_type": "code",
   "execution_count": null,
   "metadata": {},
   "outputs": [],
   "source": [
    "import numpy as np\n",
    "from LU_PivoteoParcial import * \n",
    "\n",
    "\n",
    "for k in range(1, 10+1):\n",
    "    eps = 10**(-2*k) \n",
    "    A = np.array([[eps,  1],\n",
    "                 [1,    1]])\n",
    "    b = np.array([1+eps, 2])\n",
    "\n",
    "    X = SolverLU(A, b)\n",
    "    print(X)\n"
   ]
  }
 ],
 "metadata": {
  "language_info": {
   "name": "python"
  }
 },
 "nbformat": 4,
 "nbformat_minor": 2
}
