{
 "cells": [
  {
   "cell_type": "markdown",
   "metadata": {},
   "source": [
    "Integrantes\n",
    "Arturo Najera Santos\n",
    "Daniel Eduardo Raya Maldonado"
   ]
  },
  {
   "cell_type": "code",
   "execution_count": 3,
   "metadata": {},
   "outputs": [],
   "source": [
    "import numpy as np\n",
    "from numpy import linalg as LA"
   ]
  },
  {
   "cell_type": "code",
   "execution_count": 92,
   "metadata": {},
   "outputs": [],
   "source": [
    "A = np.array([[2.,4.,-2.],[4.,9.,-3.],[-2.,5.,7.]])\n",
    "B = np.array([2.,8.,10.])\n",
    "\n",
    "def EliminacionGaussiana(A, B):\n",
    "    n = len(B)\n",
    "    for i in range(n):\n",
    "        Mayor = np.argmax(A[i:, i])+i # ncuentra el valor máximo de la matriz\n",
    "        if i != Mayor:  # se cambian las filas en caso de que el valor maximo no este en donde hara de pivote\n",
    "            A[[i, Mayor]] = A[[Mayor, i]]\n",
    "            B[[i, Mayor]] = B[[Mayor, i]]\n",
    "        A[i] = A[i] / A[i, i] #hacemos que el pivote valga 1 \n",
    "        b[i] = b[i] / A[i, i]\n",
    "        for j in range(i + 1, n):\n",
    "            A[j] = A[j] - A[j, i] * A[i]\n",
    "            b[j] = b[j] - A[j, i] * b[i]\n",
    "    \n",
    "    x = np.zeros(n) # creamos una matriz de ceros para escribir la solucion\n",
    "    for i in range(n-1, -1, -1): #aqui hacemos una sustitucion haci atras\n",
    "        x[i] = b[i] - np.sum(A[i, i+1:n] * x[i+1:n])\n",
    "    \n",
    "    return x\n"
   ]
  },
  {
   "cell_type": "code",
   "execution_count": null,
   "metadata": {},
   "outputs": [],
   "source": [
    "EliminacionGaussiana(A, B)"
   ]
  },
  {
   "cell_type": "markdown",
   "metadata": {},
   "source": [
    "Podemos usar el codigo visto en clase"
   ]
  },
  {
   "cell_type": "code",
   "execution_count": null,
   "metadata": {},
   "outputs": [],
   "source": [
    "A = np.array([[2.,4.,-2.],[4.,9.,-3.],[-2.,5.,7.]])\n",
    "B = np.array([4.,8.,-6.])\n",
    "\n",
    "def FactLU(A):\n",
    "  U=np.copy(A)\n",
    "  n=A.shape[1]\n",
    "  L=np.eye(n)\n",
    "  for j in range(n):\n",
    "    Lj=np.eye(n)\n",
    "    for i in range(j+1,n):\n",
    "      Lj[i,j]=-U[i,j]/U[j,j]\n",
    "    L=L@Lj\n",
    "    #print(Lj,j)\n",
    "    U=Lj@U\n",
    "  L=2*np.eye(n)-L\n",
    "  return L,U\n",
    "\n",
    "\n",
    "def SustDelante(L,b):\n",
    "  x=np.zeros_like(b)\n",
    "  n=L.shape[0]# cantidad de renglones de L\n",
    "  for i in range(n):\n",
    "    sum=0.0\n",
    "    for j in range(i):\n",
    "      sum+=L[i,j]*x[j]\n",
    "    x[i]=(b[i]-sum)/L[i,i]\n",
    "\n",
    "  return x\n",
    "\n",
    "\n",
    "def SustAtras(U,y):\n",
    "  x=np.zeros_like(y)\n",
    "  n=U.shape[0]# cantidad de renglones de U\n",
    "  x[n-1]=y[n-1]/U[n-1][n-1]\n",
    "\n",
    "  for i in range(n-2,-1,-1):\n",
    "    sum=0.0\n",
    "    for j in range(i+1,n):\n",
    "      sum+=U[i,j]*x[j]\n",
    "    x[i]=(y[i]-sum)/U[i,i]\n",
    "\n",
    "  return x\n",
    "\n",
    "def SolverLU(A,b):\n",
    "  L,U=FactLU(A)\n",
    "  y=SustDelante(L,b)\n",
    "  x=SustAtras(U,y)\n",
    "\n",
    "  return x"
   ]
  },
  {
   "cell_type": "code",
   "execution_count": null,
   "metadata": {},
   "outputs": [],
   "source": [
    "sol=SolverLU(A,b)\n",
    "sol"
   ]
  }
 ],
 "metadata": {
  "kernelspec": {
   "display_name": "Python 3",
   "language": "python",
   "name": "python3"
  },
  "language_info": {
   "codemirror_mode": {
    "name": "ipython",
    "version": 3
   },
   "file_extension": ".py",
   "mimetype": "text/x-python",
   "name": "python",
   "nbconvert_exporter": "python",
   "pygments_lexer": "ipython3",
   "version": "3.12.1"
  }
 },
 "nbformat": 4,
 "nbformat_minor": 2
}
