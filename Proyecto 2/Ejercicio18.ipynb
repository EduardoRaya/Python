{
 "cells": [
  {
   "cell_type": "markdown",
   "metadata": {},
   "source": []
  },
  {
   "cell_type": "code",
   "execution_count": 3,
   "metadata": {},
   "outputs": [],
   "source": [
    "import numpy as np\n",
    "from numpy import linalg as LA"
   ]
  },
  {
   "cell_type": "code",
   "execution_count": 92,
   "metadata": {},
   "outputs": [],
   "source": [
    "A = np.array([[2.,4.,-2.],[4.,9.,-3.],[-2.,5.,7.]])\n",
    "B = np.array([2.,8.,10.])\n",
    "\n",
    "def EliminacionGaussiana(A, B):\n",
    "    n = len(B)\n",
    "    for i in range(n):\n",
    "        Mayor = np.argmax(A[i:, i])+i # ncuentra el valor máximo de la matriz\n",
    "        if i != Mayor:  # se cambian las filas en caso de que el valor maximo no este en donde hara de pivote\n",
    "            A[[i, Mayor]] = A[[Mayor, i]]\n",
    "            B[[i, Mayor]] = B[[Mayor, i]]\n",
    "        A[i] = A[i] / A[i, i] #hacemos que el pivote valga 1 \n",
    "        b[i] = b[i] / A[i, i]\n",
    "        for j in range(i + 1, n):\n",
    "            A[j] = A[j] - A[j, i] * A[i]\n",
    "            b[j] = b[j] - A[j, i] * b[i]\n",
    "    \n",
    "    x = np.zeros(n) # creamos una matriz de ceros para escribir la solucion\n",
    "    for i in range(n-1, -1, -1): #aqui hacemos una sustitucion haci atras\n",
    "        x[i] = b[i] - np.sum(A[i, i+1:n] * x[i+1:n])\n",
    "    \n",
    "    return x\n"
   ]
  },
  {
   "cell_type": "code",
   "execution_count": 93,
   "metadata": {},
   "outputs": [
    {
     "data": {
      "text/plain": [
       "array([153.57894737, -51.36842105,  49.        ])"
      ]
     },
     "execution_count": 93,
     "metadata": {},
     "output_type": "execute_result"
    }
   ],
   "source": [
    "EliminacionGaussiana(A, B)"
   ]
  }
 ],
 "metadata": {
  "kernelspec": {
   "display_name": "Python 3",
   "language": "python",
   "name": "python3"
  },
  "language_info": {
   "codemirror_mode": {
    "name": "ipython",
    "version": 3
   },
   "file_extension": ".py",
   "mimetype": "text/x-python",
   "name": "python",
   "nbconvert_exporter": "python",
   "pygments_lexer": "ipython3",
   "version": "3.12.1"
  }
 },
 "nbformat": 4,
 "nbformat_minor": 2
}
